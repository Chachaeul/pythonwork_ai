{
 "cells": [
  {
   "cell_type": "code",
   "execution_count": 2,
   "metadata": {
    "scrolled": true
   },
   "outputs": [
    {
     "name": "stdout",
     "output_type": "stream",
     "text": [
      "1.15.0\n"
     ]
    }
   ],
   "source": [
    "import tensorflow as tf\n",
    "print(tf.__version__)"
   ]
  },
  {
   "cell_type": "code",
   "execution_count": 3,
   "metadata": {},
   "outputs": [
    {
     "name": "stdout",
     "output_type": "stream",
     "text": [
      "('64bit', 'WindowsPE')\n"
     ]
    }
   ],
   "source": [
    "import platform\n",
    "print(platform.architecture())"
   ]
  },
  {
   "cell_type": "code",
   "execution_count": 4,
   "metadata": {},
   "outputs": [
    {
     "data": {
      "text/plain": [
       "'\\nconda update -n base conda\\nconda update --all\\n'"
      ]
     },
     "execution_count": 4,
     "metadata": {},
     "output_type": "execute_result"
    }
   ],
   "source": [
    "'''\n",
    "conda update -n base conda\n",
    "conda update --all\n",
    "'''"
   ]
  },
  {
   "cell_type": "code",
   "execution_count": 5,
   "metadata": {},
   "outputs": [
    {
     "data": {
      "text/plain": [
       "'\\nconda create -n tf2 anaconda\\n'"
      ]
     },
     "execution_count": 5,
     "metadata": {},
     "output_type": "execute_result"
    }
   ],
   "source": [
    "'''\n",
    "conda create -n tf2 anaconda\n",
    "'''"
   ]
  },
  {
   "cell_type": "code",
   "execution_count": 6,
   "metadata": {},
   "outputs": [
    {
     "data": {
      "text/plain": [
       "'\\n\\n# 가상환경 접속\\nactivate tf2\\n\\n# base로 돌아올 때\\ndeactive\\n\\n# 가상환경 삭제\\nconda remove --name 가상환경 이름 --all\\n'"
      ]
     },
     "execution_count": 6,
     "metadata": {},
     "output_type": "execute_result"
    }
   ],
   "source": [
    "'''\n",
    "\n",
    "# 가상환경 접속\n",
    "activate tf2\n",
    "\n",
    "# base로 돌아올 때\n",
    "deactive\n",
    "\n",
    "# 가상환경 삭제\n",
    "conda remove --name 가상환경 이름 --all\n",
    "'''"
   ]
  },
  {
   "cell_type": "code",
   "execution_count": 7,
   "metadata": {},
   "outputs": [
    {
     "data": {
      "text/plain": [
       "<tf.Tensor 'Const:0' shape=() dtype=string>"
      ]
     },
     "execution_count": 7,
     "metadata": {},
     "output_type": "execute_result"
    }
   ],
   "source": [
    "#머신러닝의 개념과 용어 비디오  (TensorFlow의 기본 Lab 비디오 ) 강의 슬라이드  Lab 슬라이드\n",
    "\n",
    "hello = tf.constant(\"Hello, TensorFlow!\")\n",
    "hello\n",
    "#실제 데이터가 존재하지 않는다"
   ]
  },
  {
   "cell_type": "code",
   "execution_count": 8,
   "metadata": {},
   "outputs": [],
   "source": [
    "sess = tf.Session()"
   ]
  },
  {
   "cell_type": "code",
   "execution_count": 9,
   "metadata": {},
   "outputs": [
    {
     "name": "stdout",
     "output_type": "stream",
     "text": [
      "b'Hello, TensorFlow!'\n"
     ]
    }
   ],
   "source": [
    "print(sess.run(hello)) #여기서 데이터 불러와줌"
   ]
  },
  {
   "cell_type": "code",
   "execution_count": 10,
   "metadata": {},
   "outputs": [
    {
     "name": "stdout",
     "output_type": "stream",
     "text": [
      "Tensor(\"Const_1:0\", shape=(), dtype=int32)\n"
     ]
    }
   ],
   "source": [
    "a =tf.constant(10)\n",
    "print(a) #실제 데이터가 존재하지 않는다. 계획만 세운것"
   ]
  },
  {
   "cell_type": "code",
   "execution_count": 11,
   "metadata": {},
   "outputs": [
    {
     "data": {
      "text/plain": [
       "<tf.Tensor 'Const_2:0' shape=() dtype=int32>"
      ]
     },
     "execution_count": 11,
     "metadata": {},
     "output_type": "execute_result"
    }
   ],
   "source": [
    "b = tf.constant(20)\n",
    "b"
   ]
  },
  {
   "cell_type": "code",
   "execution_count": 12,
   "metadata": {},
   "outputs": [
    {
     "data": {
      "text/plain": [
       "<tf.Tensor 'Add:0' shape=() dtype=int32>"
      ]
     },
     "execution_count": 12,
     "metadata": {},
     "output_type": "execute_result"
    }
   ],
   "source": [
    "c = tf.add(a,b)\n",
    "c"
   ]
  },
  {
   "cell_type": "code",
   "execution_count": 13,
   "metadata": {},
   "outputs": [
    {
     "data": {
      "text/plain": [
       "10"
      ]
     },
     "execution_count": 13,
     "metadata": {},
     "output_type": "execute_result"
    }
   ],
   "source": [
    "sess= tf.Session()\n",
    "\n",
    "sess.run(a)"
   ]
  },
  {
   "cell_type": "code",
   "execution_count": 14,
   "metadata": {},
   "outputs": [
    {
     "data": {
      "text/plain": [
       "20"
      ]
     },
     "execution_count": 14,
     "metadata": {},
     "output_type": "execute_result"
    }
   ],
   "source": [
    "sess.run(b)"
   ]
  },
  {
   "cell_type": "code",
   "execution_count": 15,
   "metadata": {},
   "outputs": [
    {
     "data": {
      "text/plain": [
       "30"
      ]
     },
     "execution_count": 15,
     "metadata": {},
     "output_type": "execute_result"
    }
   ],
   "source": [
    "sess.run(c)"
   ]
  },
  {
   "cell_type": "code",
   "execution_count": 16,
   "metadata": {},
   "outputs": [
    {
     "name": "stdout",
     "output_type": "stream",
     "text": [
      "Tensor(\"add_1:0\", shape=(1,), dtype=int32)\n",
      "[25]\n"
     ]
    }
   ],
   "source": [
    "a = tf.constant([5])\n",
    "b = tf.constant([10])\n",
    "c = tf.constant([2])\n",
    "\n",
    "d = a + b * c\n",
    "print(d)\n",
    "\n",
    "sess = tf.Session()\n",
    "print(sess.run(d))"
   ]
  },
  {
   "cell_type": "markdown",
   "metadata": {},
   "source": [
    "###  구성요소\n",
    "    \n",
    "    https://www.tensorflow.org/versions/r1.15/api_docs/python/tf\n",
    "\n",
    "  + constant()\n",
    "            tf.constant(\n",
    "                value,\n",
    "                dtype=None,\n",
    "                shape=None,\n",
    "                name='Const',\n",
    "                verify_shape=False\n",
    "            )\n",
    "        \n",
    "            - 절대적으로 변하지 않는 상수를 의미\n",
    "            - 자체적으로 그래프를 갖는다\n",
    "            \n",
    "            \n",
    "  + Variable()  \n",
    "     첫글자 대문자인 이유 주로 클래스일경우. 나머지처럼 메서드(함수)가 아니라 객체다\n",
    "           __init__(\n",
    "                initial_value=None,\n",
    "                trainable=None,\n",
    "                collections=None,\n",
    "                validate_shape=True,\n",
    "                caching_device=None,\n",
    "                name=None,\n",
    "                variable_def=None,\n",
    "                dtype=None,\n",
    "                expected_shape=None,\n",
    "                import_scope=None,\n",
    "                constraint=None,\n",
    "                use_resource=None,\n",
    "                synchronization=tf.VariableSynchronization.AUTO,\n",
    "                aggregation=tf.VariableAggregation.NONE,\n",
    "                shape=None\n",
    "            )\n",
    "            \n",
    "            - 객체로 정의\n",
    "            - weight(가중치)를 저장하는 변수\n",
    "            - 사용 전에 반드시 초기화\n",
    "\n",
    "    \n",
    "    \n",
    "  + placeholder()\n",
    "          \n",
    "            - 그래프를 만들지 않는다\n",
    "            - 입력된 데이터를 텐서와 매핑하는 역할\n",
    "            \n",
    "            tf.placeholder(\n",
    "                    dtype,\n",
    "                    shape=None,\n",
    "                    name=None\n",
    "            )\n"
   ]
  },
  {
   "cell_type": "code",
   "execution_count": 17,
   "metadata": {},
   "outputs": [
    {
     "data": {
      "text/plain": [
       "<tensorflow.python.summary.writer.writer.FileWriter at 0x236207fa108>"
      ]
     },
     "execution_count": 17,
     "metadata": {},
     "output_type": "execute_result"
    }
   ],
   "source": [
    "#Tensorboard\n",
    "\n",
    "tf.summary.FileWriter(\"log_dir\",graph=sess.graph)\n",
    "\n",
    "#도스창에서 tensorboard --logdir=log_dir"
   ]
  },
  {
   "cell_type": "markdown",
   "metadata": {},
   "source": [
    "텐서플로 텐서\n",
    "\n",
    "이름에서 알 수 있듯이, 텐서플로는 텐서를 포함한 계산을 정의하고 실행하는 프레임워크입니다. 텐서(tensor)는 벡터와 행렬을 일반화한 것이고 고차원으로 확장 가능합니다. 내부적으로 텐서플로는 기본적으로 제공되는 자료형을 사용해 n-차원 배열로 나타냅니다.\n",
    "\n",
    "텐서 = 배열\n",
    "\n",
    "\n",
    "랭크(Rank)\n",
    "tf.Tensor 객체의 랭크는 그 차원의 수입니다. 랭크의 동의어는 order 또는 degree, n-dimension입니다. 텐서플로의 랭크는 수학에서 사용하는 행렬의 랭크와는 다릅니다. 다음 표에서 알 수 있는 것처럼, 텐서플로의 각 랭크는 각각 다른 수학 개체(entity)에 해당됩니다.\n",
    "랭크\t수학 개체\n",
    "0\t스칼라(Scalar) (크기(magnitude)만)       #0D텐서\n",
    "1\t벡터(Vector) (크기와 방향(direction))    #1D텐서\n",
    "2\t행렬(Matrix) (숫자 표)                   #2D텐서\n",
    "3\t3-텐서 (숫자 큐브(cube))\n",
    "n\tn-텐서 (알 수 있을겁니다(you get the idea))"
   ]
  },
  {
   "cell_type": "markdown",
   "metadata": {},
   "source": [
    "#### Variable"
   ]
  },
  {
   "cell_type": "code",
   "execution_count": 21,
   "metadata": {},
   "outputs": [
    {
     "name": "stdout",
     "output_type": "stream",
     "text": [
      "Tensor(\"add_9:0\", shape=(1,), dtype=int32)\n"
     ]
    },
    {
     "data": {
      "text/plain": [
       "array([10])"
      ]
     },
     "execution_count": 21,
     "metadata": {},
     "output_type": "execute_result"
    }
   ],
   "source": [
    "v1 = tf.Variable(initial_value=[5])\n",
    "v2 = tf.Variable([3])\n",
    "v3 = tf.Variable([2])\n",
    "#객체가 호출되면 가장먼저 생성자가 호출됨  __init__( initial_value=None, ...)\n",
    "\n",
    "v4 = v1+v2+v3\n",
    "print(v4)\n",
    "#v1,v2 .. 다 노드. v4에 다 연결 돼있다.  \n",
    "sess = tf.Session()\n",
    "# sess.run(tf.initialize_all_variables() )\n",
    "sess.run(tf.global_variables_initializer() )\n",
    "sess.run(v4) #실행 전에 초기화를 해야 에러 안남."
   ]
  },
  {
   "cell_type": "code",
   "execution_count": 22,
   "metadata": {},
   "outputs": [
    {
     "data": {
      "text/plain": [
       "<tensorflow.python.summary.writer.writer.FileWriter at 0x2362ae6d888>"
      ]
     },
     "execution_count": 22,
     "metadata": {},
     "output_type": "execute_result"
    }
   ],
   "source": [
    "tf.summary.FileWriter(\"log_dir\", graph=sess.graph)"
   ]
  },
  {
   "cell_type": "code",
   "execution_count": 23,
   "metadata": {},
   "outputs": [],
   "source": [
    "sess.close()"
   ]
  },
  {
   "cell_type": "markdown",
   "metadata": {},
   "source": [
    "#### placeholder"
   ]
  },
  {
   "cell_type": "code",
   "execution_count": 25,
   "metadata": {},
   "outputs": [
    {
     "data": {
      "text/plain": [
       "107.0"
      ]
     },
     "execution_count": 25,
     "metadata": {},
     "output_type": "execute_result"
    }
   ],
   "source": [
    "a = 5\n",
    "b = 2\n",
    "c = 3\n",
    "\n",
    "p1 = tf.placeholder(dtype=tf.float32 )\n",
    "p2 = tf.placeholder(dtype=tf.float32 )\n",
    "p3 = tf.placeholder(dtype=tf.float32 )\n",
    "\n",
    "result=p1+p2+p3\n",
    "\n",
    "sess = tf.Session()\n",
    "sess.run(result, feed_dict={p1:a, p2:b,p3:100})"
   ]
  },
  {
   "cell_type": "code",
   "execution_count": null,
   "metadata": {},
   "outputs": [],
   "source": []
  },
  {
   "cell_type": "code",
   "execution_count": null,
   "metadata": {},
   "outputs": [],
   "source": []
  },
  {
   "cell_type": "code",
   "execution_count": null,
   "metadata": {},
   "outputs": [],
   "source": []
  },
  {
   "cell_type": "code",
   "execution_count": null,
   "metadata": {},
   "outputs": [],
   "source": []
  },
  {
   "cell_type": "code",
   "execution_count": null,
   "metadata": {},
   "outputs": [],
   "source": []
  },
  {
   "cell_type": "code",
   "execution_count": null,
   "metadata": {},
   "outputs": [],
   "source": []
  },
  {
   "cell_type": "code",
   "execution_count": null,
   "metadata": {},
   "outputs": [],
   "source": []
  },
  {
   "cell_type": "code",
   "execution_count": null,
   "metadata": {},
   "outputs": [],
   "source": []
  },
  {
   "cell_type": "code",
   "execution_count": null,
   "metadata": {},
   "outputs": [],
   "source": []
  }
 ],
 "metadata": {
  "kernelspec": {
   "display_name": "Python 3",
   "language": "python",
   "name": "python3"
  },
  "language_info": {
   "codemirror_mode": {
    "name": "ipython",
    "version": 3
   },
   "file_extension": ".py",
   "mimetype": "text/x-python",
   "name": "python",
   "nbconvert_exporter": "python",
   "pygments_lexer": "ipython3",
   "version": "3.7.6"
  }
 },
 "nbformat": 4,
 "nbformat_minor": 4
}
